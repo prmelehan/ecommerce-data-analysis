{
 "cells": [
  {
   "cell_type": "markdown",
   "metadata": {},
   "source": [
    "# E-Commerce Data Analysis\n",
    "\n",
    "An analysis into some ecommerce sales data\n",
    "\n",
    "Source: https://www.kaggle.com/allunia/e-commerce-sales-forecast/data"
   ]
  },
  {
   "cell_type": "markdown",
   "metadata": {},
   "source": [
    "This publicly available dataset contains information from a real UK ecommerce company. I'll be looking at various attributes of the data to answer 3 analytical questions."
   ]
  },
  {
   "cell_type": "markdown",
   "metadata": {},
   "source": [
    "## Initial Guiding Questions\n",
    "\n",
    "This analysis will focus on the three following guiding questions. The dataset mentioned about will be the driving force in finding an answer to these questions. Each question has the potential to help an ecommerce buisiness grow by understanding the internal workings of its sales.\n",
    "\n",
    "#### 1) Which quarter in 2011 had the most revenue?\n",
    "#### 2) Which country brought in the most revenue in 2011?\n",
    "#### 3) Which products have the highest lift value?"
   ]
  },
  {
   "cell_type": "markdown",
   "metadata": {},
   "source": [
    "## Data Cleaning & Exploration\n",
    "\n",
    "First, we'll need to import the data, clean it (if nessesary) and make some initial observations. The data, as mentioned above, is from a UK based online retailer. It contains information from the end of 2010 to the end of 2011.\n",
    "\n",
    "To start, we define our dependencies below"
   ]
  },
  {
   "cell_type": "code",
   "execution_count": 1,
   "metadata": {},
   "outputs": [],
   "source": [
    "# dependencies\n",
    "# pandas for data import and manipulation\n",
    "import pandas as pd\n",
    "# numpy for matrix mathematics and other fast math operations\n",
    "import numpy as np\n",
    "# pretty graphs\n",
    "import seaborn as sns\n",
    "# ugly graphs, but the underlying library for seaborn\n",
    "import matplotlib.pyplot as plt\n",
    "\n",
    "from collections import Counter\n",
    "\n",
    "# for association rule mining:\n",
    "from mlxtend.frequent_patterns import association_rules\n",
    "from mlxtend.frequent_patterns import apriori\n",
    "\n",
    "# allow graphs to automatically show in the browser without needing plt.show()\n",
    "%matplotlib inline"
   ]
  },
  {
   "cell_type": "markdown",
   "metadata": {},
   "source": [
    "### Load Dataset"
   ]
  },
  {
   "cell_type": "code",
   "execution_count": 2,
   "metadata": {},
   "outputs": [],
   "source": [
    "# load the data with the specific encoding type. not utf-8 :(\n",
    "df = pd.read_csv(\"data/ecommerce.csv\", encoding=\"ISO-8859-1\")"
   ]
  },
  {
   "cell_type": "markdown",
   "metadata": {},
   "source": [
    "### Understanding Our Data's Format"
   ]
  },
  {
   "cell_type": "code",
   "execution_count": 3,
   "metadata": {
    "scrolled": true
   },
   "outputs": [
    {
     "data": {
      "text/html": [
       "<div>\n",
       "<style scoped>\n",
       "    .dataframe tbody tr th:only-of-type {\n",
       "        vertical-align: middle;\n",
       "    }\n",
       "\n",
       "    .dataframe tbody tr th {\n",
       "        vertical-align: top;\n",
       "    }\n",
       "\n",
       "    .dataframe thead th {\n",
       "        text-align: right;\n",
       "    }\n",
       "</style>\n",
       "<table border=\"1\" class=\"dataframe\">\n",
       "  <thead>\n",
       "    <tr style=\"text-align: right;\">\n",
       "      <th></th>\n",
       "      <th>InvoiceNo</th>\n",
       "      <th>StockCode</th>\n",
       "      <th>Description</th>\n",
       "      <th>Quantity</th>\n",
       "      <th>InvoiceDate</th>\n",
       "      <th>UnitPrice</th>\n",
       "      <th>CustomerID</th>\n",
       "      <th>Country</th>\n",
       "    </tr>\n",
       "  </thead>\n",
       "  <tbody>\n",
       "    <tr>\n",
       "      <th>0</th>\n",
       "      <td>536365</td>\n",
       "      <td>85123A</td>\n",
       "      <td>WHITE HANGING HEART T-LIGHT HOLDER</td>\n",
       "      <td>6</td>\n",
       "      <td>12/1/2010 8:26</td>\n",
       "      <td>2.55</td>\n",
       "      <td>17850.0</td>\n",
       "      <td>United Kingdom</td>\n",
       "    </tr>\n",
       "    <tr>\n",
       "      <th>1</th>\n",
       "      <td>536365</td>\n",
       "      <td>71053</td>\n",
       "      <td>WHITE METAL LANTERN</td>\n",
       "      <td>6</td>\n",
       "      <td>12/1/2010 8:26</td>\n",
       "      <td>3.39</td>\n",
       "      <td>17850.0</td>\n",
       "      <td>United Kingdom</td>\n",
       "    </tr>\n",
       "    <tr>\n",
       "      <th>2</th>\n",
       "      <td>536365</td>\n",
       "      <td>84406B</td>\n",
       "      <td>CREAM CUPID HEARTS COAT HANGER</td>\n",
       "      <td>8</td>\n",
       "      <td>12/1/2010 8:26</td>\n",
       "      <td>2.75</td>\n",
       "      <td>17850.0</td>\n",
       "      <td>United Kingdom</td>\n",
       "    </tr>\n",
       "    <tr>\n",
       "      <th>3</th>\n",
       "      <td>536365</td>\n",
       "      <td>84029G</td>\n",
       "      <td>KNITTED UNION FLAG HOT WATER BOTTLE</td>\n",
       "      <td>6</td>\n",
       "      <td>12/1/2010 8:26</td>\n",
       "      <td>3.39</td>\n",
       "      <td>17850.0</td>\n",
       "      <td>United Kingdom</td>\n",
       "    </tr>\n",
       "    <tr>\n",
       "      <th>4</th>\n",
       "      <td>536365</td>\n",
       "      <td>84029E</td>\n",
       "      <td>RED WOOLLY HOTTIE WHITE HEART.</td>\n",
       "      <td>6</td>\n",
       "      <td>12/1/2010 8:26</td>\n",
       "      <td>3.39</td>\n",
       "      <td>17850.0</td>\n",
       "      <td>United Kingdom</td>\n",
       "    </tr>\n",
       "  </tbody>\n",
       "</table>\n",
       "</div>"
      ],
      "text/plain": [
       "  InvoiceNo StockCode                          Description  Quantity  \\\n",
       "0    536365    85123A   WHITE HANGING HEART T-LIGHT HOLDER         6   \n",
       "1    536365     71053                  WHITE METAL LANTERN         6   \n",
       "2    536365    84406B       CREAM CUPID HEARTS COAT HANGER         8   \n",
       "3    536365    84029G  KNITTED UNION FLAG HOT WATER BOTTLE         6   \n",
       "4    536365    84029E       RED WOOLLY HOTTIE WHITE HEART.         6   \n",
       "\n",
       "      InvoiceDate  UnitPrice  CustomerID         Country  \n",
       "0  12/1/2010 8:26       2.55     17850.0  United Kingdom  \n",
       "1  12/1/2010 8:26       3.39     17850.0  United Kingdom  \n",
       "2  12/1/2010 8:26       2.75     17850.0  United Kingdom  \n",
       "3  12/1/2010 8:26       3.39     17850.0  United Kingdom  \n",
       "4  12/1/2010 8:26       3.39     17850.0  United Kingdom  "
      ]
     },
     "execution_count": 3,
     "metadata": {},
     "output_type": "execute_result"
    }
   ],
   "source": [
    "df.head()"
   ]
  },
  {
   "cell_type": "code",
   "execution_count": 4,
   "metadata": {},
   "outputs": [
    {
     "data": {
      "text/plain": [
       "(541909, 8)"
      ]
     },
     "execution_count": 4,
     "metadata": {},
     "output_type": "execute_result"
    }
   ],
   "source": [
    "df.shape"
   ]
  },
  {
   "cell_type": "markdown",
   "metadata": {},
   "source": [
    "Just off the bat we seem to have some categorical as well as continous data. We have a date in the form of `InvoiceDate`, which should help us going forward. We also see that the shape signifies that we have 541,909 rows, and 8 columns. As well, it seems like `InvoiceNo` is repeating throughout multiple rows, as well as `CustomerID` and `InvoiceDate`."
   ]
  },
  {
   "cell_type": "code",
   "execution_count": 5,
   "metadata": {},
   "outputs": [
    {
     "name": "stdout",
     "output_type": "stream",
     "text": [
      "<class 'pandas.core.frame.DataFrame'>\n",
      "RangeIndex: 541909 entries, 0 to 541908\n",
      "Data columns (total 8 columns):\n",
      "InvoiceNo      541909 non-null object\n",
      "StockCode      541909 non-null object\n",
      "Description    540455 non-null object\n",
      "Quantity       541909 non-null int64\n",
      "InvoiceDate    541909 non-null object\n",
      "UnitPrice      541909 non-null float64\n",
      "CustomerID     406829 non-null float64\n",
      "Country        541909 non-null object\n",
      "dtypes: float64(2), int64(1), object(5)\n",
      "memory usage: 33.1+ MB\n"
     ]
    }
   ],
   "source": [
    "df.info()"
   ]
  },
  {
   "cell_type": "markdown",
   "metadata": {},
   "source": [
    "The above information is super helpful, it tells us that the datatypes for the columns do not differ from what we would expect. I.e. `UnitPrice` is always a float and is never null. The non-null nature is great because we don't have to drop any null values. We also don't have to deal with mis-matching datatypes.\n",
    "\n",
    "Even though we know the datatypes and we know that the data has no null values, we still don't know if it has duplicates or not. We can quickly find duplicates below:"
   ]
  },
  {
   "cell_type": "code",
   "execution_count": 6,
   "metadata": {},
   "outputs": [
    {
     "data": {
      "text/plain": [
       "5268"
      ]
     },
     "execution_count": 6,
     "metadata": {},
     "output_type": "execute_result"
    }
   ],
   "source": [
    "len(df[df.duplicated()])"
   ]
  },
  {
   "cell_type": "markdown",
   "metadata": {},
   "source": [
    "There seem to be 5,268 rows that are duplicate entries. We can easily drop those values so that they don't skew our data. The following will drop all rows that have **all** column values the same, keeping the first row it finds."
   ]
  },
  {
   "cell_type": "code",
   "execution_count": 7,
   "metadata": {},
   "outputs": [],
   "source": [
    "df = df.drop_duplicates()"
   ]
  },
  {
   "cell_type": "code",
   "execution_count": 8,
   "metadata": {},
   "outputs": [
    {
     "data": {
      "text/plain": [
       "536641"
      ]
     },
     "execution_count": 8,
     "metadata": {},
     "output_type": "execute_result"
    }
   ],
   "source": [
    "len(df)"
   ]
  },
  {
   "cell_type": "code",
   "execution_count": 9,
   "metadata": {},
   "outputs": [
    {
     "data": {
      "text/html": [
       "<div>\n",
       "<style scoped>\n",
       "    .dataframe tbody tr th:only-of-type {\n",
       "        vertical-align: middle;\n",
       "    }\n",
       "\n",
       "    .dataframe tbody tr th {\n",
       "        vertical-align: top;\n",
       "    }\n",
       "\n",
       "    .dataframe thead th {\n",
       "        text-align: right;\n",
       "    }\n",
       "</style>\n",
       "<table border=\"1\" class=\"dataframe\">\n",
       "  <thead>\n",
       "    <tr style=\"text-align: right;\">\n",
       "      <th></th>\n",
       "      <th>Quantity</th>\n",
       "      <th>UnitPrice</th>\n",
       "      <th>CustomerID</th>\n",
       "    </tr>\n",
       "  </thead>\n",
       "  <tbody>\n",
       "    <tr>\n",
       "      <th>count</th>\n",
       "      <td>536641.000000</td>\n",
       "      <td>536641.000000</td>\n",
       "      <td>401604.000000</td>\n",
       "    </tr>\n",
       "    <tr>\n",
       "      <th>mean</th>\n",
       "      <td>9.620029</td>\n",
       "      <td>4.632656</td>\n",
       "      <td>15281.160818</td>\n",
       "    </tr>\n",
       "    <tr>\n",
       "      <th>std</th>\n",
       "      <td>219.130156</td>\n",
       "      <td>97.233118</td>\n",
       "      <td>1714.006089</td>\n",
       "    </tr>\n",
       "    <tr>\n",
       "      <th>min</th>\n",
       "      <td>-80995.000000</td>\n",
       "      <td>-11062.060000</td>\n",
       "      <td>12346.000000</td>\n",
       "    </tr>\n",
       "    <tr>\n",
       "      <th>25%</th>\n",
       "      <td>1.000000</td>\n",
       "      <td>1.250000</td>\n",
       "      <td>13939.000000</td>\n",
       "    </tr>\n",
       "    <tr>\n",
       "      <th>50%</th>\n",
       "      <td>3.000000</td>\n",
       "      <td>2.080000</td>\n",
       "      <td>15145.000000</td>\n",
       "    </tr>\n",
       "    <tr>\n",
       "      <th>75%</th>\n",
       "      <td>10.000000</td>\n",
       "      <td>4.130000</td>\n",
       "      <td>16784.000000</td>\n",
       "    </tr>\n",
       "    <tr>\n",
       "      <th>max</th>\n",
       "      <td>80995.000000</td>\n",
       "      <td>38970.000000</td>\n",
       "      <td>18287.000000</td>\n",
       "    </tr>\n",
       "  </tbody>\n",
       "</table>\n",
       "</div>"
      ],
      "text/plain": [
       "            Quantity      UnitPrice     CustomerID\n",
       "count  536641.000000  536641.000000  401604.000000\n",
       "mean        9.620029       4.632656   15281.160818\n",
       "std       219.130156      97.233118    1714.006089\n",
       "min    -80995.000000  -11062.060000   12346.000000\n",
       "25%         1.000000       1.250000   13939.000000\n",
       "50%         3.000000       2.080000   15145.000000\n",
       "75%        10.000000       4.130000   16784.000000\n",
       "max     80995.000000   38970.000000   18287.000000"
      ]
     },
     "execution_count": 9,
     "metadata": {},
     "output_type": "execute_result"
    }
   ],
   "source": [
    "df.describe()"
   ]
  },
  {
   "cell_type": "markdown",
   "metadata": {},
   "source": [
    "Finally, describing the dataframe (with the duplicates dropped) shows us a few interesting things. 1. The `UnitPrice` & `Quantity` columns have negative numbers, meaning that this dataset contains information about *returns* as well as purchases. For the sake of this analysis, we only care about purchases of products. For that reason, we will remove the returns from the dataset"
   ]
  },
  {
   "cell_type": "code",
   "execution_count": 10,
   "metadata": {},
   "outputs": [
    {
     "data": {
      "text/plain": [
       "526052"
      ]
     },
     "execution_count": 10,
     "metadata": {},
     "output_type": "execute_result"
    }
   ],
   "source": [
    "df = df[(df.Quantity >= 0) & (df.UnitPrice >= 0)]\n",
    "len(df)"
   ]
  },
  {
   "cell_type": "markdown",
   "metadata": {},
   "source": [
    "### Descibing Columns\n",
    "\n",
    "Seems like each row contains a product, with identifying information associated with it. Columns `InvoiceDate`, `CustomerID`, and `Country` are associated to the `InvoiceNo` whereas `Description`, `Quantity`, and `UnitPrice` are associated to the `StockCode`.\n",
    "\n",
    "\n",
    "Associated Columns:\n",
    "\n",
    "`InvoiceNo`: {`InvoiceDate`, `CustomerID`, `Country`}\n",
    "\n",
    "`StockCode`: {`Description`, `Quantity`, `UnitPrice`}\n",
    "\n",
    "Column Descriptions:\n",
    "\n",
    "`InvoiceNo`: The invoice number, which is duplicated throughout the rows, matching each `StockCode` to the current transaction.\n",
    "\n",
    "`InvoiceDate`: The UTC date that the invoice was placed.\n",
    "\n",
    "`CustomerID`: The customer's ID who is placing the transaction / invoice\n",
    "\n",
    "`Country`: The country from which the customer is placing the order\n",
    "\n",
    "`StockCode`: The internal ID for the product being purchased\n",
    "\n",
    "`Description`: The description of the product that the user sees\n",
    "\n",
    "`Quantity`: The amount of the product the customer is purchasing\n",
    "\n",
    "`UnitPrice`: The price per product of said product. _Currency unknown, will assume British Pounds_ (￡)\n"
   ]
  },
  {
   "cell_type": "markdown",
   "metadata": {},
   "source": [
    "### Preprocessing\n",
    "\n",
    "This data needs some TLC. It needs some more descriptive attributes that we can filter by later on. First, let's one-hot encode the date so that we can filter by items like Year, Month, Quarter, etc. Additionally, we'll create a `Revenue` column so that I can view pure revenue of a product."
   ]
  },
  {
   "cell_type": "code",
   "execution_count": 11,
   "metadata": {},
   "outputs": [],
   "source": [
    "# create the revenue column\n",
    "# revenue = price per item * number of items\n",
    "# revenue = UnitPrice * Quantity\n",
    "df[\"Revenue\"] = df.UnitPrice * df.Quantity"
   ]
  },
  {
   "cell_type": "code",
   "execution_count": 12,
   "metadata": {},
   "outputs": [],
   "source": [
    "# one-hot encode the dates\n",
    "\n",
    "# first, re-format the date so that we can extract components from it\n",
    "# cache = True can help with speed, especially when there are duplicate time stamps\n",
    "df[\"InvoiceDate\"] = pd.to_datetime(df.InvoiceDate, cache=True)\n",
    "\n",
    "# get the date components, and assign them to their own columns\n",
    "# we specifically want the year, month, week and quarter, as that's what\n",
    "# we'll be looking at later on\n",
    "df[\"Year\"] = df.InvoiceDate.dt.year\n",
    "df[\"Month\"] = df.InvoiceDate.dt.month\n",
    "df[\"Week\"] = df.InvoiceDate.dt.week\n",
    "df[\"Quarter\"] = df.InvoiceDate.dt.quarter"
   ]
  },
  {
   "cell_type": "markdown",
   "metadata": {},
   "source": [
    "### Which quarter in 2011 had the most revenue?\n",
    "\n",
    "To start, we only want 2011 data, so we will filter by year == 2011.\n",
    "Also, we will group the data by `InvoiceNo` summing the revenue for all products in the invoice."
   ]
  },
  {
   "cell_type": "code",
   "execution_count": 13,
   "metadata": {},
   "outputs": [],
   "source": [
    "# filter the data to only allow invoices from 2011\n",
    "purchase_data_2011 = df[df.Year >= 2011]"
   ]
  },
  {
   "cell_type": "code",
   "execution_count": 14,
   "metadata": {},
   "outputs": [],
   "source": [
    "# aggregate by invoice No, summing the revenue\n",
    "\n",
    "# the columns that we want to aggregate by, (the date components + InvoiceNo)\n",
    "columns_of_interest = [\"InvoiceNo\",\n",
    "                       \"Year\",\n",
    "                       \"Month\",\n",
    "                       \"Week\",\n",
    "                       \"Quarter\",\n",
    "                       \"Country\"]\n",
    "\n",
    "invoice_df = purchase_data_2011.groupby(columns_of_interest).Revenue.sum()\n",
    "invoice_df = pd.DataFrame(invoice_df)\n",
    "# reset the index so that our index (columns_of_interest) becomes columns\n",
    "invoice_df = invoice_df.reset_index()"
   ]
  },
  {
   "cell_type": "markdown",
   "metadata": {},
   "source": [
    "Now that everything is grouped by Invoice (and all the othere date columns), let's see the general distribution of renvenue for year 2011."
   ]
  },
  {
   "cell_type": "code",
   "execution_count": 15,
   "metadata": {},
   "outputs": [
    {
     "data": {
      "text/plain": [
       "<matplotlib.text.Text at 0x1098e4cc0>"
      ]
     },
     "execution_count": 15,
     "metadata": {},
     "output_type": "execute_result"
    },
    {
     "data": {
      "image/png": "[encoded data removed]",
      "text/plain": [
       "<matplotlib.figure.Figure at 0x114eae390>"
      ]
     },
     "metadata": {},
     "output_type": "display_data"
    }
   ],
   "source": [
    "sns.distplot(a=invoice_df.Revenue, kde=False).set_title(\"2011 Invoice Revenue\")"
   ]
  },
  {
   "cell_type": "markdown",
   "metadata": {},
   "source": [
    "Since there seems to be some serious outliers that are skewing our distribution, let's configure the histogram to exclude the top 5% highest Invoice Revenues"
   ]
  },
  {
   "cell_type": "code",
   "execution_count": 16,
   "metadata": {},
   "outputs": [],
   "source": [
    "# remove extremely high values\n",
    "high_values = invoice_df.Revenue.quantile(0.95)\n",
    "\n",
    "regular_revenues = invoice_df[(invoice_df.Revenue < high_values)]"
   ]
  },
  {
   "cell_type": "code",
   "execution_count": 17,
   "metadata": {},
   "outputs": [
    {
     "data": {
      "text/plain": [
       "<matplotlib.text.Text at 0x11531a240>"
      ]
     },
     "execution_count": 17,
     "metadata": {},
     "output_type": "execute_result"
    },
    {
     "data": {
      "image/png": "[encoded data removed]",
      "text/plain": [
       "<matplotlib.figure.Figure at 0x1166edcf8>"
      ]
     },
     "metadata": {},
     "output_type": "display_data"
    }
   ],
   "source": [
    "sns.distplot(a=regular_revenues.Revenue, kde=False).set_title(\"2011 Invoice Revenue (excluding extreme revenues)\")"
   ]
  },
  {
   "cell_type": "markdown",
   "metadata": {},
   "source": [
    "Now that we have a general idea of what the distribution of Revenue is on an Invoice basis, let's answer the question: What quarter in 2011 had the highest revenue?\n",
    "\n",
    "To do this, let's first plot some visualizations to better visually judge the revenue amount, then we'll compute some hard numbers."
   ]
  },
  {
   "cell_type": "code",
   "execution_count": 18,
   "metadata": {},
   "outputs": [
    {
     "data": {
      "text/plain": [
       "[<matplotlib.text.Text at 0x115504c88>]"
      ]
     },
     "execution_count": 18,
     "metadata": {},
     "output_type": "execute_result"
    },
    {
     "data": {
      "image/png": "[encoded data removed]",
      "text/plain": [
       "<matplotlib.figure.Figure at 0x115113b70>"
      ]
     },
     "metadata": {},
     "output_type": "display_data"
    }
   ],
   "source": [
    "# group the quarterly revenue\n",
    "\n",
    "quarterly_revenue = pd.DataFrame(invoice_df.groupby(\"Quarter\").Revenue.sum())\n",
    "quarterly_revenue = quarterly_revenue.reset_index()\n",
    "# plot Q1-Q4 2011 Revenue figures\n",
    "\n",
    "axis = sns.barplot(x=quarterly_revenue.Quarter, y=quarterly_revenue.Revenue)\n",
    "# chr(163): 163 is the ordinate value of ￡\n",
    "axis.set_title(\"2011 Revenue\")\n",
    "\n",
    "# add the y label to add the pound sign\n",
    "axis.set(ylabel=\"Revenue ({})\".format(chr(163)))\n"
   ]
  },
  {
   "cell_type": "code",
   "execution_count": 49,
   "metadata": {},
   "outputs": [
    {
     "data": {
      "text/plain": [
       "<matplotlib.text.Text at 0x11679a3c8>"
      ]
     },
     "execution_count": 49,
     "metadata": {},
     "output_type": "execute_result"
    },
    {
     "data": {
      "image/png": "[encoded data removed]",
      "text/plain": [
       "<matplotlib.figure.Figure at 0x11626fcf8>"
      ]
     },
     "metadata": {},
     "output_type": "display_data"
    }
   ],
   "source": [
    "_ = plt.pie(quarterly_revenue.Revenue, labels=quarterly_revenue.Quarter.apply(lambda x: \"Q{}\".format(x)), autopct='%1.1f%%')\n",
    "\n",
    "plt.title(\"2011 Quarterly Revenue Share\")\n"
   ]
  },
  {
   "cell_type": "markdown",
   "metadata": {},
   "source": [
    "It's evident that Q4 2011 had the highest revenue by far, but exactly how much more than the other quarters? Now let's compute exact numbers for revenue, and find out how much bigger "
   ]
  },
  {
   "cell_type": "code",
   "execution_count": 20,
   "metadata": {},
   "outputs": [
    {
     "data": {
      "text/html": [
       "<div>\n",
       "<style scoped>\n",
       "    .dataframe tbody tr th:only-of-type {\n",
       "        vertical-align: middle;\n",
       "    }\n",
       "\n",
       "    .dataframe tbody tr th {\n",
       "        vertical-align: top;\n",
       "    }\n",
       "\n",
       "    .dataframe thead th {\n",
       "        text-align: right;\n",
       "    }\n",
       "</style>\n",
       "<table border=\"1\" class=\"dataframe\">\n",
       "  <thead>\n",
       "    <tr style=\"text-align: right;\">\n",
       "      <th></th>\n",
       "      <th>Quarter</th>\n",
       "      <th>Revenue</th>\n",
       "    </tr>\n",
       "  </thead>\n",
       "  <tbody>\n",
       "    <tr>\n",
       "      <th>0</th>\n",
       "      <td>1</td>\n",
       "      <td>1928572.430</td>\n",
       "    </tr>\n",
       "    <tr>\n",
       "      <th>1</th>\n",
       "      <td>2</td>\n",
       "      <td>2066812.111</td>\n",
       "    </tr>\n",
       "    <tr>\n",
       "      <th>2</th>\n",
       "      <td>3</td>\n",
       "      <td>2532352.693</td>\n",
       "    </tr>\n",
       "    <tr>\n",
       "      <th>3</th>\n",
       "      <td>4</td>\n",
       "      <td>3292920.840</td>\n",
       "    </tr>\n",
       "  </tbody>\n",
       "</table>\n",
       "</div>"
      ],
      "text/plain": [
       "   Quarter      Revenue\n",
       "0        1  1928572.430\n",
       "1        2  2066812.111\n",
       "2        3  2532352.693\n",
       "3        4  3292920.840"
      ]
     },
     "execution_count": 20,
     "metadata": {},
     "output_type": "execute_result"
    }
   ],
   "source": [
    "quarterly_revenue.head()"
   ]
  },
  {
   "cell_type": "code",
   "execution_count": 21,
   "metadata": {},
   "outputs": [
    {
     "name": "stdout",
     "output_type": "stream",
     "text": [
      "Q1 Revenue: 1928572.429999998\n",
      "Q2 Revenue: 2066812.1109999954\n",
      "Q3 Revenue: 2532352.6929999986\n",
      "Q4 Revenue: 3292920.840000003\n"
     ]
    }
   ],
   "source": [
    "for quarter in range(1, 5):\n",
    "    quarter_revenue = quarterly_revenue[quarterly_revenue.Quarter == quarter].Revenue.values[0]\n",
    "    print(\"Q{} Revenue: {}\".format(quarter, quarter_revenue))"
   ]
  },
  {
   "cell_type": "code",
   "execution_count": 51,
   "metadata": {},
   "outputs": [
    {
     "name": "stdout",
     "output_type": "stream",
     "text": [
      "Q4 had 70.7% more revenue than Q1\n",
      "Q4 had 59.3% more revenue than Q2\n",
      "Q4 had 30.0% more revenue than Q3\n"
     ]
    }
   ],
   "source": [
    "Q4_revenue = quarterly_revenue[quarterly_revenue.Quarter == 4].Revenue.values[0]\n",
    "\n",
    "\n",
    "# compare all Q4 revenue to the other quarters\n",
    "for quarter in range(1, 4):\n",
    "    quarter_revenue = quarterly_revenue[quarterly_revenue.Quarter == quarter].Revenue.values[0]\n",
    "    \n",
    "    # compute how much larger Q4 is than the current quarter\n",
    "    revenue_difference = ((Q4_revenue - quarter_revenue) / quarter_revenue) * 100\n",
    "    \n",
    "    print(\"Q4 had {}% more revenue than Q{}\".format(round(revenue_difference, 1), quarter))\n"
   ]
  },
  {
   "cell_type": "markdown",
   "metadata": {},
   "source": [
    "Perfect. To summarize this first question: Q4 is the quarter with the most revenue. In addition, Q4 rose to 71% more revenue than Q1 in the same year!"
   ]
  },
  {
   "cell_type": "markdown",
   "metadata": {},
   "source": [
    "### Which country brought in the most revenue in 2011?\n",
    "\n",
    "Given that we have country data for these transactions, it would be super helpful to know what countries brought in the most revenue for 2011. First, we want to know some more about our country data..."
   ]
  },
  {
   "cell_type": "code",
   "execution_count": 23,
   "metadata": {},
   "outputs": [
    {
     "data": {
      "image/png": "[encoded data removed]",
      "text/plain": [
       "<matplotlib.figure.Figure at 0x11561bda0>"
      ]
     },
     "metadata": {},
     "output_type": "display_data"
    }
   ],
   "source": [
    "# get the value counts of each country...\n",
    "country_value_counts = invoice_df.Country.value_counts()\n",
    "_ = plt.pie(country_value_counts, labels=country_value_counts.index, autopct='%1.1f%%')"
   ]
  },
  {
   "cell_type": "markdown",
   "metadata": {},
   "source": [
    "From the above (cluttered) pie chart, it shows that the UK is largest orderer of our sample. However, this doesn't necessarily mean that the UK had the most revenue. e.g. all the orders count be 0.01￡, for some weird reason.\n",
    "\n",
    "To test this, we'll just plot the total revenue for each country against each other."
   ]
  },
  {
   "cell_type": "code",
   "execution_count": 24,
   "metadata": {},
   "outputs": [],
   "source": [
    "country_revenue = pd.DataFrame(invoice_df.groupby(\"Country\").Revenue.sum())\n",
    "country_revenue = country_revenue.reset_index()"
   ]
  },
  {
   "cell_type": "code",
   "execution_count": 32,
   "metadata": {},
   "outputs": [
    {
     "data": {
      "image/png": "[encoded data removed]",
      "text/plain": [
       "<matplotlib.figure.Figure at 0x11678a7f0>"
      ]
     },
     "metadata": {},
     "output_type": "display_data"
    }
   ],
   "source": [
    "# plot the figures on the barchart\n",
    "axis = sns.barplot(x=country_revenue.Country, y=country_revenue.Revenue)\n",
    "# rotate the labels\n",
    "for item in axis.get_xticklabels():\n",
    "    item.set_rotation(90)"
   ]
  },
  {
   "cell_type": "markdown",
   "metadata": {},
   "source": [
    "Since this graph is super cluttered, let's limit the graph to the top 10 countries by revenue"
   ]
  },
  {
   "cell_type": "code",
   "execution_count": 26,
   "metadata": {},
   "outputs": [],
   "source": [
    "top_10_countries_by_revenue = country_revenue.sort_values(by=\"Revenue\", ascending=False)[:10]"
   ]
  },
  {
   "cell_type": "code",
   "execution_count": 27,
   "metadata": {},
   "outputs": [
    {
     "data": {
      "image/png": "[encoded data removed]",
      "text/plain": [
       "<matplotlib.figure.Figure at 0x115ed6f60>"
      ]
     },
     "metadata": {},
     "output_type": "display_data"
    }
   ],
   "source": [
    "axis = sns.barplot(x=top_10_countries_by_revenue.Country, y=top_10_countries_by_revenue.Revenue)\n",
    "# rotate the labels\n",
    "for item in axis.get_xticklabels():\n",
    "    item.set_rotation(90)"
   ]
  },
  {
   "cell_type": "code",
   "execution_count": 30,
   "metadata": {},
   "outputs": [
    {
     "name": "stdout",
     "output_type": "stream",
     "text": [
      "The United Kingdom accounts for 84.06% of the revenue for year 2011\n"
     ]
    }
   ],
   "source": [
    "# get total percentage of revenue from UK\n",
    "\n",
    "uk_revenue_percentage = country_revenue[country_revenue.Country == \"United Kingdom\"].Revenue / country_revenue.Revenue.sum()\n",
    "uk_revenue_percentage = uk_revenue_percentage.values[0] * 100\n",
    "\n",
    "\n",
    "print(\"The United Kingdom accounts for {}% of the revenue for year 2011\".format(round(uk_revenue_percentage, 2)))"
   ]
  },
  {
   "cell_type": "markdown",
   "metadata": {},
   "source": [
    "One last thing, I want to see if visually the UK market represents our larger sample (it most defininitly should)."
   ]
  },
  {
   "cell_type": "code",
   "execution_count": 31,
   "metadata": {},
   "outputs": [
    {
     "data": {
      "image/png": "[encoded data removed]",
      "text/plain": [
       "<matplotlib.figure.Figure at 0x1165f25c0>"
      ]
     },
     "metadata": {},
     "output_type": "display_data"
    }
   ],
   "source": [
    "# get UK revenue only\n",
    "uk_quarterly_revenue = invoice_df[invoice_df.Country == \"United Kingdom\"]\n",
    "\n",
    "# group by quarter\n",
    "uk_quarterly_revenue = pd.DataFrame(uk_quarterly_revenue.groupby(\"Quarter\").Revenue.sum())\n",
    "uk_quarterly_revenue = uk_quarterly_revenue.reset_index()\n",
    "\n",
    "# plot a bar plot\n",
    "axis = sns.barplot(x=uk_quarterly_revenue.Quarter, y=uk_quarterly_revenue.Revenue)\n"
   ]
  },
  {
   "cell_type": "markdown",
   "metadata": {},
   "source": [
    "Yup, roughly the same outline for quarterly growth"
   ]
  },
  {
   "cell_type": "markdown",
   "metadata": {},
   "source": [
    "The results are in: the UK is the abosolute largest revenue contributor for year 2011"
   ]
  },
  {
   "cell_type": "markdown",
   "metadata": {},
   "source": [
    "### Which products have the highest lift value?\n",
    "\n",
    "A `lift` value represents how much more often that items will be purchased together than if they were statistically independent. I.e. milk and eggs would have a high lift as it is much more likely that one is bought given the other. A lift value of 1 means independent. Lift can help us find products that are **highly** correlated with each other, which can allow us to target similar products to users who are currently looking at a given product. Amazon does this to find related products.\n",
    "\n",
    "Given two items in a shopping cart: {`Milk`, `Eggs`}, we want to find how correlated they are. More specifically, how likely it is that one item is purchased given another. So how likely is it that `Eggs` are purchased given the user is also purchasing `Milk`. This can help us cluster our data for future customers, as well as help predict the liklihood of purchases in the future.\n",
    "\n",
    "\n",
    "The metrics we will include:\n",
    "\n",
    "1) Support\n",
    "\n",
    "2) Confidence\n",
    "\n",
    "3) Lift\n",
    "\n",
    "\n",
    "\n",
    "**Antecedent & Consequent**:\n",
    "\n",
    "The `Antecedent` in our example is `Milk`. Or the item that the `Consequent` (`Eggs`) is measuring against. In form $ Antecedent \\rightarrow Consequent $ would mean that someone who buys `Antecedent` also buys `Consequent`.\n",
    "\n",
    "\n",
    "### Support\n",
    "\n",
    "Support is defined as the incidence of the item in the population of transactions.\n",
    "\n",
    "So if our population contained `1000` transactions and `590` of them contained `Eggs` in the purchase: $$ Support = \\frac{590}{1000} = 0.59$$\n",
    "\n",
    "\n",
    "This `Support` is for an individual item. If we have a relationship such as: $$ \\{Eggs\\} \\rightarrow \\{Milk\\} $$ the support would be: $$ Support(Eggs \\rightarrow Milk) = Support(Eggs \\cup Milk) $$\n",
    "\n",
    "\n",
    "### Confidence\n",
    "\n",
    "Confidence is defined as the probabiliy of seeing the `Consequent` in a transaction given that the transaction also contains the `Antecedent`.\n",
    "\n",
    "$$ Confidence(Eggs \\rightarrow Milk) = \\frac{Support(Eggs \\rightarrow Milk)}{Support(Milk)} $$\n",
    "\n",
    "\n",
    "### Lift\n",
    "\n",
    "Lift is used to measure how much more often the `Antecedent` and `Consequent` occur together than we would expect if they were statistically independent. Lift scores of 1 mean the `Antecedent` and `Consequent` are statistically independent.\n",
    "\n",
    "$$ Lift(Milk \\rightarrow Eggs) = \\frac{Confidence(Eggs \\rightarrow Milk)}{Support(Eggs)} $$"
   ]
  },
  {
   "cell_type": "code",
   "execution_count": 34,
   "metadata": {},
   "outputs": [],
   "source": [
    "# convert the data into the proper 1-hot vector format, where each row is an invoice\n",
    "# with columns being the stock code, and each cell being True or False indicating whether\n",
    "# the item is in the invoice\n",
    "\n",
    "# we will take from the purchases data frame as we are only interested in purchases\n",
    "\n",
    "# create a matrix of the form:\n",
    "\n",
    "# INVOICENO | APPLE | BANANA | ORANGE\n",
    "# 23847     |  True |  True  |  False\n",
    "# 45345     | False |  False | True\n",
    "# 23493     | True  |  True  | True\n",
    "\n",
    "association_data_rows = purchase_data_2011.to_dict(\"records\")"
   ]
  },
  {
   "cell_type": "code",
   "execution_count": 35,
   "metadata": {},
   "outputs": [],
   "source": [
    "# create our matrix\n",
    "\n",
    "association_info = {}\n",
    "\n",
    "for row in association_data_rows:\n",
    "    invoice_number = row[\"InvoiceNo\"]\n",
    "    stock_code = row[\"StockCode\"]\n",
    "    \n",
    "    if invoice_number not in association_info:\n",
    "        association_info[invoice_number] = {}\n",
    "    association_info[invoice_number][stock_code] = True"
   ]
  },
  {
   "cell_type": "code",
   "execution_count": 36,
   "metadata": {},
   "outputs": [],
   "source": [
    "# convert to data frame\n",
    "association_df = pd.DataFrame.from_dict(association_info, orient=\"index\")"
   ]
  },
  {
   "cell_type": "code",
   "execution_count": 37,
   "metadata": {},
   "outputs": [],
   "source": [
    "# fill blanks with False to finish off the matrix\n",
    "association_df = association_df.fillna(False)"
   ]
  },
  {
   "cell_type": "code",
   "execution_count": 38,
   "metadata": {},
   "outputs": [
    {
     "data": {
      "text/html": [
       "<div>\n",
       "<style scoped>\n",
       "    .dataframe tbody tr th:only-of-type {\n",
       "        vertical-align: middle;\n",
       "    }\n",
       "\n",
       "    .dataframe tbody tr th {\n",
       "        vertical-align: top;\n",
       "    }\n",
       "\n",
       "    .dataframe thead th {\n",
       "        text-align: right;\n",
       "    }\n",
       "</style>\n",
       "<table border=\"1\" class=\"dataframe\">\n",
       "  <thead>\n",
       "    <tr style=\"text-align: right;\">\n",
       "      <th></th>\n",
       "      <th>22386</th>\n",
       "      <th>21499</th>\n",
       "      <th>21498</th>\n",
       "      <th>22379</th>\n",
       "      <th>20718</th>\n",
       "      <th>85099B</th>\n",
       "      <th>20682</th>\n",
       "      <th>22961</th>\n",
       "      <th>22667</th>\n",
       "      <th>22898</th>\n",
       "      <th>...</th>\n",
       "      <th>23561</th>\n",
       "      <th>90082D</th>\n",
       "      <th>90151</th>\n",
       "      <th>79151B</th>\n",
       "      <th>23609</th>\n",
       "      <th>85179a</th>\n",
       "      <th>23617</th>\n",
       "      <th>90214U</th>\n",
       "      <th>47591b</th>\n",
       "      <th>23843</th>\n",
       "    </tr>\n",
       "  </thead>\n",
       "  <tbody>\n",
       "    <tr>\n",
       "      <th>539993</th>\n",
       "      <td>True</td>\n",
       "      <td>True</td>\n",
       "      <td>True</td>\n",
       "      <td>True</td>\n",
       "      <td>True</td>\n",
       "      <td>True</td>\n",
       "      <td>True</td>\n",
       "      <td>True</td>\n",
       "      <td>True</td>\n",
       "      <td>True</td>\n",
       "      <td>...</td>\n",
       "      <td>False</td>\n",
       "      <td>False</td>\n",
       "      <td>False</td>\n",
       "      <td>False</td>\n",
       "      <td>False</td>\n",
       "      <td>False</td>\n",
       "      <td>False</td>\n",
       "      <td>False</td>\n",
       "      <td>False</td>\n",
       "      <td>False</td>\n",
       "    </tr>\n",
       "    <tr>\n",
       "      <th>539997</th>\n",
       "      <td>False</td>\n",
       "      <td>False</td>\n",
       "      <td>False</td>\n",
       "      <td>False</td>\n",
       "      <td>False</td>\n",
       "      <td>False</td>\n",
       "      <td>False</td>\n",
       "      <td>False</td>\n",
       "      <td>False</td>\n",
       "      <td>False</td>\n",
       "      <td>...</td>\n",
       "      <td>False</td>\n",
       "      <td>False</td>\n",
       "      <td>False</td>\n",
       "      <td>False</td>\n",
       "      <td>False</td>\n",
       "      <td>False</td>\n",
       "      <td>False</td>\n",
       "      <td>False</td>\n",
       "      <td>False</td>\n",
       "      <td>False</td>\n",
       "    </tr>\n",
       "    <tr>\n",
       "      <th>539998</th>\n",
       "      <td>False</td>\n",
       "      <td>False</td>\n",
       "      <td>False</td>\n",
       "      <td>False</td>\n",
       "      <td>False</td>\n",
       "      <td>False</td>\n",
       "      <td>False</td>\n",
       "      <td>False</td>\n",
       "      <td>False</td>\n",
       "      <td>False</td>\n",
       "      <td>...</td>\n",
       "      <td>False</td>\n",
       "      <td>False</td>\n",
       "      <td>False</td>\n",
       "      <td>False</td>\n",
       "      <td>False</td>\n",
       "      <td>False</td>\n",
       "      <td>False</td>\n",
       "      <td>False</td>\n",
       "      <td>False</td>\n",
       "      <td>False</td>\n",
       "    </tr>\n",
       "    <tr>\n",
       "      <th>540001</th>\n",
       "      <td>False</td>\n",
       "      <td>False</td>\n",
       "      <td>False</td>\n",
       "      <td>False</td>\n",
       "      <td>False</td>\n",
       "      <td>False</td>\n",
       "      <td>False</td>\n",
       "      <td>False</td>\n",
       "      <td>False</td>\n",
       "      <td>False</td>\n",
       "      <td>...</td>\n",
       "      <td>False</td>\n",
       "      <td>False</td>\n",
       "      <td>False</td>\n",
       "      <td>False</td>\n",
       "      <td>False</td>\n",
       "      <td>False</td>\n",
       "      <td>False</td>\n",
       "      <td>False</td>\n",
       "      <td>False</td>\n",
       "      <td>False</td>\n",
       "    </tr>\n",
       "    <tr>\n",
       "      <th>540002</th>\n",
       "      <td>False</td>\n",
       "      <td>False</td>\n",
       "      <td>False</td>\n",
       "      <td>False</td>\n",
       "      <td>False</td>\n",
       "      <td>False</td>\n",
       "      <td>False</td>\n",
       "      <td>False</td>\n",
       "      <td>False</td>\n",
       "      <td>False</td>\n",
       "      <td>...</td>\n",
       "      <td>False</td>\n",
       "      <td>False</td>\n",
       "      <td>False</td>\n",
       "      <td>False</td>\n",
       "      <td>False</td>\n",
       "      <td>False</td>\n",
       "      <td>False</td>\n",
       "      <td>False</td>\n",
       "      <td>False</td>\n",
       "      <td>False</td>\n",
       "    </tr>\n",
       "  </tbody>\n",
       "</table>\n",
       "<p>5 rows × 3835 columns</p>\n",
       "</div>"
      ],
      "text/plain": [
       "        22386  21499  21498  22379  20718  85099B  20682  22961  22667  22898  \\\n",
       "539993   True   True   True   True   True    True   True   True   True   True   \n",
       "539997  False  False  False  False  False   False  False  False  False  False   \n",
       "539998  False  False  False  False  False   False  False  False  False  False   \n",
       "540001  False  False  False  False  False   False  False  False  False  False   \n",
       "540002  False  False  False  False  False   False  False  False  False  False   \n",
       "\n",
       "        ...    23561  90082D  90151  79151B  23609  85179a  23617  90214U  \\\n",
       "539993  ...    False   False  False   False  False   False  False   False   \n",
       "539997  ...    False   False  False   False  False   False  False   False   \n",
       "539998  ...    False   False  False   False  False   False  False   False   \n",
       "540001  ...    False   False  False   False  False   False  False   False   \n",
       "540002  ...    False   False  False   False  False   False  False   False   \n",
       "\n",
       "        47591b  23843  \n",
       "539993   False  False  \n",
       "539997   False  False  \n",
       "539998   False  False  \n",
       "540001   False  False  \n",
       "540002   False  False  \n",
       "\n",
       "[5 rows x 3835 columns]"
      ]
     },
     "execution_count": 38,
     "metadata": {},
     "output_type": "execute_result"
    }
   ],
   "source": [
    "# view a little piece of the matrix\n",
    "association_df.head()"
   ]
  },
  {
   "cell_type": "code",
   "execution_count": 39,
   "metadata": {},
   "outputs": [
    {
     "data": {
      "text/plain": [
       "(19097, 3835)"
      ]
     },
     "execution_count": 39,
     "metadata": {},
     "output_type": "execute_result"
    }
   ],
   "source": [
    "association_df.shape"
   ]
  },
  {
   "cell_type": "code",
   "execution_count": 41,
   "metadata": {},
   "outputs": [],
   "source": [
    "# get the top 100 best selling products\n",
    "\n",
    "products_counter = Counter()\n",
    "for index, row in purchase_data_2011.iterrows():\n",
    "    products_counter[row[\"StockCode\"]] += row[\"Quantity\"]"
   ]
  },
  {
   "cell_type": "code",
   "execution_count": 42,
   "metadata": {},
   "outputs": [],
   "source": [
    "# top 100 most common products (the best selling ones)\n",
    "top_products = products_counter.most_common(100)\n",
    "top_products = [product[0] for product in top_products]"
   ]
  },
  {
   "cell_type": "code",
   "execution_count": 43,
   "metadata": {},
   "outputs": [],
   "source": [
    "# now filter the top products from the association_df\n",
    "top_products_association_df = association_df[top_products]"
   ]
  },
  {
   "cell_type": "code",
   "execution_count": 44,
   "metadata": {},
   "outputs": [],
   "source": [
    "# perform the apriori to find common itemsets\n",
    "frequent_products_df = apriori(df=top_products_association_df, min_support=0.005, use_colnames=True)"
   ]
  },
  {
   "cell_type": "code",
   "execution_count": 46,
   "metadata": {},
   "outputs": [],
   "source": [
    "# get the metrics now\n",
    "associations = association_rules(frequent_products_df, metric=\"confidence\", min_threshold=0.1)"
   ]
  },
  {
   "cell_type": "code",
   "execution_count": 47,
   "metadata": {},
   "outputs": [
    {
     "data": {
      "text/html": [
       "<div>\n",
       "<style scoped>\n",
       "    .dataframe tbody tr th:only-of-type {\n",
       "        vertical-align: middle;\n",
       "    }\n",
       "\n",
       "    .dataframe tbody tr th {\n",
       "        vertical-align: top;\n",
       "    }\n",
       "\n",
       "    .dataframe thead th {\n",
       "        text-align: right;\n",
       "    }\n",
       "</style>\n",
       "<table border=\"1\" class=\"dataframe\">\n",
       "  <thead>\n",
       "    <tr style=\"text-align: right;\">\n",
       "      <th></th>\n",
       "      <th>antecedents</th>\n",
       "      <th>consequents</th>\n",
       "      <th>antecedent support</th>\n",
       "      <th>consequent support</th>\n",
       "      <th>support</th>\n",
       "      <th>confidence</th>\n",
       "      <th>lift</th>\n",
       "      <th>leverage</th>\n",
       "      <th>conviction</th>\n",
       "    </tr>\n",
       "  </thead>\n",
       "  <tbody>\n",
       "    <tr>\n",
       "      <th>0</th>\n",
       "      <td>(22197)</td>\n",
       "      <td>(85099B)</td>\n",
       "      <td>0.066555</td>\n",
       "      <td>0.103262</td>\n",
       "      <td>0.018694</td>\n",
       "      <td>0.280881</td>\n",
       "      <td>2.720075</td>\n",
       "      <td>0.011821</td>\n",
       "      <td>1.246995</td>\n",
       "    </tr>\n",
       "    <tr>\n",
       "      <th>1</th>\n",
       "      <td>(85099B)</td>\n",
       "      <td>(22197)</td>\n",
       "      <td>0.103262</td>\n",
       "      <td>0.066555</td>\n",
       "      <td>0.018694</td>\n",
       "      <td>0.181034</td>\n",
       "      <td>2.720075</td>\n",
       "      <td>0.011821</td>\n",
       "      <td>1.139786</td>\n",
       "    </tr>\n",
       "    <tr>\n",
       "      <th>2</th>\n",
       "      <td>(85123A)</td>\n",
       "      <td>(22197)</td>\n",
       "      <td>0.103629</td>\n",
       "      <td>0.066555</td>\n",
       "      <td>0.014243</td>\n",
       "      <td>0.137443</td>\n",
       "      <td>2.065108</td>\n",
       "      <td>0.007346</td>\n",
       "      <td>1.082184</td>\n",
       "    </tr>\n",
       "    <tr>\n",
       "      <th>3</th>\n",
       "      <td>(22197)</td>\n",
       "      <td>(85123A)</td>\n",
       "      <td>0.066555</td>\n",
       "      <td>0.103629</td>\n",
       "      <td>0.014243</td>\n",
       "      <td>0.214005</td>\n",
       "      <td>2.065108</td>\n",
       "      <td>0.007346</td>\n",
       "      <td>1.140428</td>\n",
       "    </tr>\n",
       "    <tr>\n",
       "      <th>4</th>\n",
       "      <td>(22197)</td>\n",
       "      <td>(21212)</td>\n",
       "      <td>0.066555</td>\n",
       "      <td>0.063937</td>\n",
       "      <td>0.013981</td>\n",
       "      <td>0.210071</td>\n",
       "      <td>3.285604</td>\n",
       "      <td>0.009726</td>\n",
       "      <td>1.184996</td>\n",
       "    </tr>\n",
       "  </tbody>\n",
       "</table>\n",
       "</div>"
      ],
      "text/plain": [
       "  antecedents consequents  antecedent support  consequent support   support  \\\n",
       "0     (22197)    (85099B)            0.066555            0.103262  0.018694   \n",
       "1    (85099B)     (22197)            0.103262            0.066555  0.018694   \n",
       "2    (85123A)     (22197)            0.103629            0.066555  0.014243   \n",
       "3     (22197)    (85123A)            0.066555            0.103629  0.014243   \n",
       "4     (22197)     (21212)            0.066555            0.063937  0.013981   \n",
       "\n",
       "   confidence      lift  leverage  conviction  \n",
       "0    0.280881  2.720075  0.011821    1.246995  \n",
       "1    0.181034  2.720075  0.011821    1.139786  \n",
       "2    0.137443  2.065108  0.007346    1.082184  \n",
       "3    0.214005  2.065108  0.007346    1.140428  \n",
       "4    0.210071  3.285604  0.009726    1.184996  "
      ]
     },
     "execution_count": 47,
     "metadata": {},
     "output_type": "execute_result"
    }
   ],
   "source": [
    "associations.head()"
   ]
  },
  {
   "cell_type": "code",
   "execution_count": 48,
   "metadata": {},
   "outputs": [
    {
     "data": {
      "text/html": [
       "<div>\n",
       "<style scoped>\n",
       "    .dataframe tbody tr th:only-of-type {\n",
       "        vertical-align: middle;\n",
       "    }\n",
       "\n",
       "    .dataframe tbody tr th {\n",
       "        vertical-align: top;\n",
       "    }\n",
       "\n",
       "    .dataframe thead th {\n",
       "        text-align: right;\n",
       "    }\n",
       "</style>\n",
       "<table border=\"1\" class=\"dataframe\">\n",
       "  <thead>\n",
       "    <tr style=\"text-align: right;\">\n",
       "      <th></th>\n",
       "      <th>antecedents</th>\n",
       "      <th>consequents</th>\n",
       "      <th>antecedent support</th>\n",
       "      <th>consequent support</th>\n",
       "      <th>support</th>\n",
       "      <th>confidence</th>\n",
       "      <th>lift</th>\n",
       "      <th>leverage</th>\n",
       "      <th>conviction</th>\n",
       "    </tr>\n",
       "  </thead>\n",
       "  <tbody>\n",
       "    <tr>\n",
       "      <th>26737</th>\n",
       "      <td>(20723, 21212, 20719)</td>\n",
       "      <td>(22423, 22356)</td>\n",
       "      <td>0.008797</td>\n",
       "      <td>0.009897</td>\n",
       "      <td>0.005027</td>\n",
       "      <td>0.571429</td>\n",
       "      <td>57.738473</td>\n",
       "      <td>0.004940</td>\n",
       "      <td>2.310241</td>\n",
       "    </tr>\n",
       "    <tr>\n",
       "      <th>26738</th>\n",
       "      <td>(22423, 22356)</td>\n",
       "      <td>(20723, 21212, 20719)</td>\n",
       "      <td>0.009897</td>\n",
       "      <td>0.008797</td>\n",
       "      <td>0.005027</td>\n",
       "      <td>0.507937</td>\n",
       "      <td>57.738473</td>\n",
       "      <td>0.004940</td>\n",
       "      <td>2.014380</td>\n",
       "    </tr>\n",
       "    <tr>\n",
       "      <th>26736</th>\n",
       "      <td>(20719, 21212, 22356)</td>\n",
       "      <td>(20723, 22423)</td>\n",
       "      <td>0.009216</td>\n",
       "      <td>0.009635</td>\n",
       "      <td>0.005027</td>\n",
       "      <td>0.545455</td>\n",
       "      <td>56.611660</td>\n",
       "      <td>0.004938</td>\n",
       "      <td>2.178803</td>\n",
       "    </tr>\n",
       "    <tr>\n",
       "      <th>26739</th>\n",
       "      <td>(20723, 22423)</td>\n",
       "      <td>(20719, 21212, 22356)</td>\n",
       "      <td>0.009635</td>\n",
       "      <td>0.009216</td>\n",
       "      <td>0.005027</td>\n",
       "      <td>0.521739</td>\n",
       "      <td>56.611660</td>\n",
       "      <td>0.004938</td>\n",
       "      <td>2.071639</td>\n",
       "    </tr>\n",
       "    <tr>\n",
       "      <th>26654</th>\n",
       "      <td>(20723, 22423)</td>\n",
       "      <td>(21212, 20719, 22355)</td>\n",
       "      <td>0.009635</td>\n",
       "      <td>0.009426</td>\n",
       "      <td>0.005132</td>\n",
       "      <td>0.532609</td>\n",
       "      <td>56.506824</td>\n",
       "      <td>0.005041</td>\n",
       "      <td>2.119369</td>\n",
       "    </tr>\n",
       "  </tbody>\n",
       "</table>\n",
       "</div>"
      ],
      "text/plain": [
       "                 antecedents            consequents  antecedent support  \\\n",
       "26737  (20723, 21212, 20719)         (22423, 22356)            0.008797   \n",
       "26738         (22423, 22356)  (20723, 21212, 20719)            0.009897   \n",
       "26736  (20719, 21212, 22356)         (20723, 22423)            0.009216   \n",
       "26739         (20723, 22423)  (20719, 21212, 22356)            0.009635   \n",
       "26654         (20723, 22423)  (21212, 20719, 22355)            0.009635   \n",
       "\n",
       "       consequent support   support  confidence       lift  leverage  \\\n",
       "26737            0.009897  0.005027    0.571429  57.738473  0.004940   \n",
       "26738            0.008797  0.005027    0.507937  57.738473  0.004940   \n",
       "26736            0.009635  0.005027    0.545455  56.611660  0.004938   \n",
       "26739            0.009216  0.005027    0.521739  56.611660  0.004938   \n",
       "26654            0.009426  0.005132    0.532609  56.506824  0.005041   \n",
       "\n",
       "       conviction  \n",
       "26737    2.310241  \n",
       "26738    2.014380  \n",
       "26736    2.178803  \n",
       "26739    2.071639  \n",
       "26654    2.119369  "
      ]
     },
     "execution_count": 48,
     "metadata": {},
     "output_type": "execute_result"
    }
   ],
   "source": [
    "# sort by confidence\n",
    "associations = associations.sort_values(by=\"lift\", ascending=False)\n",
    "associations.head()"
   ]
  },
  {
   "cell_type": "markdown",
   "metadata": {},
   "source": [
    "We now have some item sets that have a high lift values, lets plot a some graphs of the values to understand what type of lifts we're dealing with."
   ]
  },
  {
   "cell_type": "code",
   "execution_count": 52,
   "metadata": {},
   "outputs": [
    {
     "data": {
      "text/plain": [
       "<matplotlib.axes._subplots.AxesSubplot at 0x11626f8d0>"
      ]
     },
     "execution_count": 52,
     "metadata": {},
     "output_type": "execute_result"
    },
    {
     "data": {
      "image/png": "[encoded data removed]",
      "text/plain": [
       "<matplotlib.figure.Figure at 0x1167e9dd8>"
      ]
     },
     "metadata": {},
     "output_type": "display_data"
    }
   ],
   "source": [
    "# set KDE = False so we can see acutual counts of the lift values\n",
    "sns.distplot(associations[\"lift\"], kde=False, label=\"Lift\")"
   ]
  },
  {
   "cell_type": "code",
   "execution_count": 53,
   "metadata": {},
   "outputs": [
    {
     "data": {
      "text/plain": [
       "<matplotlib.axes._subplots.AxesSubplot at 0x1281c3278>"
      ]
     },
     "execution_count": 53,
     "metadata": {},
     "output_type": "execute_result"
    },
    {
     "data": {
      "image/png": "[encoded data removed]",
      "text/plain": [
       "<matplotlib.figure.Figure at 0x121487748>"
      ]
     },
     "metadata": {},
     "output_type": "display_data"
    }
   ],
   "source": [
    "sns.boxplot(x=associations[\"lift\"])"
   ]
  },
  {
   "cell_type": "markdown",
   "metadata": {},
   "source": [
    "Seems like most lift values fall between 8 and 20. Those lift values are still pretty high, and could give us some insight into the relationships between different products, even at that level.\n",
    "\n",
    "Let's now grab the top itemset with the highest lift, and view the description."
   ]
  },
  {
   "cell_type": "code",
   "execution_count": 55,
   "metadata": {},
   "outputs": [],
   "source": [
    "# first, configure the product lookup dictionary\n",
    "# create a dictionary that allows us to easily lookup the prices / description of items by their stock code\n",
    "# the format is as follows:\n",
    "# {\n",
    "#     \"1F37D\": {\n",
    "#         \"price\": 92.00,\n",
    "#         \"description\": \"A really nice pair of shoes. White\"\n",
    "#     },\n",
    "#     ...\n",
    "# }\n",
    "\n",
    "product_lookup = {}\n",
    "\n",
    "# use itertuples because iterrows is annoyingly slow\n",
    "for index, purchase_row in enumerate(purchase_data_2011.itertuples()):\n",
    "    stock_code = purchase_row.StockCode\n",
    "    description = purchase_row.Description\n",
    "    price = purchase_row.UnitPrice\n",
    "    \n",
    "    # we don't have to check if the item is in the dict or not,\n",
    "    # because the stock codes should be unique\n",
    "    product_lookup[stock_code] = {\n",
    "        \"price\": price,\n",
    "        \"description\": description\n",
    "    }"
   ]
  },
  {
   "cell_type": "code",
   "execution_count": 57,
   "metadata": {
    "scrolled": false
   },
   "outputs": [
    {
     "name": "stdout",
     "output_type": "stream",
     "text": [
      "-----------------\n",
      "Lift: 57.7384731670446\n",
      "Antecedents:\n",
      "\tStockCode: 20723\n",
      "\tDescription: STRAWBERRY CHARLOTTE BAG\n",
      "\tPrice: 2.46\n",
      "\n",
      "\n",
      "\tStockCode: 21212\n",
      "\tDescription: PACK OF 72 RETROSPOT CAKE CASES\n",
      "\tPrice: 2.08\n",
      "\n",
      "\n",
      "\tStockCode: 20719\n",
      "\tDescription: WOODLAND CHARLOTTE BAG\n",
      "\tPrice: 2.46\n",
      "\n",
      "\n",
      "Consequents:\n",
      "\tStockCode: 22423\n",
      "\tDescription: REGENCY CAKESTAND 3 TIER\n",
      "\tPrice: 24.96\n",
      "\n",
      "\n",
      "\tStockCode: 22356\n",
      "\tDescription: CHARLOTTE BAG PINK POLKADOT\n",
      "\tPrice: 5.63\n",
      "\n",
      "\n"
     ]
    }
   ],
   "source": [
    "# select the top highest lift value item\n",
    "top_lifts = associations.head(1)\n",
    "\n",
    "# now, for all the lifts, go and find the descriptions\n",
    "for index, row in top_lifts.iterrows():\n",
    "    antecedents = row[\"antecedents\"]\n",
    "    consequents = row[\"consequents\"]\n",
    "    lift = row[\"lift\"]\n",
    "    print(\"-----------------\")\n",
    "    print(\"Lift: {}\".format(lift))\n",
    "    print(\"Antecedents:\")\n",
    "    for antecedent in antecedents:\n",
    "        # get info about it\n",
    "        antecedent_info = product_lookup[antecedent]\n",
    "        # print info about price, etc\n",
    "        print(\"\\tStockCode: {}\".format(antecedent))\n",
    "        print(\"\\tDescription: {}\".format(antecedent_info[\"description\"]))\n",
    "        print(\"\\tPrice: {}\".format(antecedent_info[\"price\"]))\n",
    "        print(\"\\n\")\n",
    "    print(\"Consequents:\")\n",
    "    for consequent in consequents:\n",
    "        # get info about it\n",
    "        consequent_info = product_lookup[consequent]\n",
    "        # print info about price, etc\n",
    "        print(\"\\tStockCode: {}\".format(consequent))\n",
    "        print(\"\\tDescription: {}\".format(consequent_info[\"description\"]))\n",
    "        print(\"\\tPrice: {}\".format(consequent_info[\"price\"]))\n",
    "        print(\"\\n\")"
   ]
  },
  {
   "cell_type": "markdown",
   "metadata": {},
   "source": [
    "There is our answer: The itemsets (20723, 21212, 20719) & (22423, 22356) have the highest lift value, with that value being 57.7384731670446. This means that the products in the two listed sets above are roughly 58 times more likely to be purchased together in the same invoice than if they were statistically independent. This type of analysis can help us gain insight into what products should be listed together. Even just by looking at the product description, we can understand that these products are very similar. Their color: \"Strawberry\", \"Pink\", as well as the type of object: \"STRAWBERRY CHARLOTTE **BAG**\", \"WOODLAND CHARLOTTE **BAG**\", \"CHARLOTTE **BAG** PINK POLKADOT\", and \"REGENCY **CAKE**STAND 3 TIER\", \"PACK OF 72 RETROSPOT **CAKE** CASES\"."
   ]
  },
  {
   "cell_type": "markdown",
   "metadata": {},
   "source": [
    "## Further Proposed Research\n",
    "\n",
    "While this report provided some initial insights into the operations of this UK E-Commerce website, we could continue futher investigating by constructing analysis of individual product revenue, i.e. which product made the most money, where, at what time, etc. This could aide in decisions to feature a product on the website, create an ad using the productm etc. In addtion, there is enough data here to perform some sort of time series regression so that future revenues could be predicted. This could prove invaluable given the amount of revenue this site pulls in. In addition, the product association analysis performed above could be extended to include a recommendation system for customers, which would help increase revenue. The country revenue analysis could be extended to try to target certain countries for certain products. Maybe Germany likes buying German flags, and France likes buying French flag?!\n"
   ]
  },
  {
   "cell_type": "code",
   "execution_count": null,
   "metadata": {},
   "outputs": [],
   "source": []
  }
 ],
 "metadata": {
  "kernelspec": {
   "display_name": "Python 3",
   "language": "python",
   "name": "python3"
  },
  "language_info": {
   "codemirror_mode": {
    "name": "ipython",
    "version": 3
   },
   "file_extension": ".py",
   "mimetype": "text/x-python",
   "name": "python",
   "nbconvert_exporter": "python",
   "pygments_lexer": "ipython3",
   "version": "3.6.6"
  }
 },
 "nbformat": 4,
 "nbformat_minor": 2
}
